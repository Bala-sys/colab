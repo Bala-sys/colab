{
  "nbformat": 4,
  "nbformat_minor": 0,
  "metadata": {
    "colab": {
      "provenance": [],
      "authorship_tag": "ABX9TyNMvq7QDsL2joXVj4F7cNyT",
      "include_colab_link": true
    },
    "kernelspec": {
      "name": "python3",
      "display_name": "Python 3"
    },
    "language_info": {
      "name": "python"
    }
  },
  "cells": [
    {
      "cell_type": "markdown",
      "metadata": {
        "id": "view-in-github",
        "colab_type": "text"
      },
      "source": [
        "<a href=\"https://colab.research.google.com/github/Bala-sys/colab/blob/main/leetcode_1_50.ipynb\" target=\"_parent\"><img src=\"https://colab.research.google.com/assets/colab-badge.svg\" alt=\"Open In Colab\"/></a>"
      ]
    },
    {
      "cell_type": "markdown",
      "source": [
        "1-Two Sum"
      ],
      "metadata": {
        "id": "HP3KUV1WBGEN"
      }
    },
    {
      "cell_type": "code",
      "execution_count": null,
      "metadata": {
        "id": "NsRrXFP4BBeA"
      },
      "outputs": [],
      "source": [
        "\n",
        "  def twoSum( num, target) :\n",
        "    dictionary = {}\n",
        "    for i in range(len(num)):\n",
        "      if num[i] in dictionary:\n",
        "        return [dictionary[num[i]], i]\n",
        "      else:\n",
        "        dictionary[target - num[i]] = i\n"
      ]
    },
    {
      "cell_type": "code",
      "source": [
        "twoSum([2,7,11,15],22)"
      ],
      "metadata": {
        "colab": {
          "base_uri": "https://localhost:8080/"
        },
        "id": "4rC7IASRHD7z",
        "outputId": "26f1aa6e-d8bc-4dde-a2f8-260d00a19619"
      },
      "execution_count": null,
      "outputs": [
        {
          "output_type": "execute_result",
          "data": {
            "text/plain": [
              "[1, 3]"
            ]
          },
          "metadata": {},
          "execution_count": 30
        }
      ]
    },
    {
      "cell_type": "markdown",
      "source": [
        " 2-Best Time to Buy and Sell Stock"
      ],
      "metadata": {
        "id": "v2E9SO9WBLmo"
      }
    },
    {
      "cell_type": "code",
      "source": [
        "def maxprofit(prices):\n",
        "  l = 0\n",
        "  r = 1\n",
        "  maxP = 0\n",
        "  while r < len(prices):\n",
        "    if prices[l] < prices[r]:\n",
        "      profit = prices[r] - prices[l]\n",
        "      maxP = max(maxP, profit)\n",
        "    else:\n",
        "      l = r\n",
        "    r += 1"
      ],
      "metadata": {
        "id": "tKxLjJoNlT0E"
      },
      "execution_count": 29,
      "outputs": []
    },
    {
      "cell_type": "code",
      "source": [
        "prices = [7,1,5,3,6,4]"
      ],
      "metadata": {
        "id": "mxSVAtq5lTwU"
      },
      "execution_count": 28,
      "outputs": []
    },
    {
      "cell_type": "code",
      "source": [
        "def maxprofit(prices):\n",
        "  profit = 0\n",
        "  for i in range(len(prices) -1):\n",
        "    if prices[i] < prices[i + 1]:\n",
        "      profit += prices[i+1] - prices[i]\n",
        "      return profit\n"
      ],
      "metadata": {
        "id": "lOoLMpPydXUW"
      },
      "execution_count": 22,
      "outputs": []
    },
    {
      "cell_type": "code",
      "source": [
        "maxprofit([7,1,5,3,6,4])"
      ],
      "metadata": {
        "colab": {
          "base_uri": "https://localhost:8080/"
        },
        "id": "E9uCK6A4GK-7",
        "outputId": "eeebbd2e-90c6-4174-df2b-f1be2585e146"
      },
      "execution_count": 24,
      "outputs": [
        {
          "output_type": "execute_result",
          "data": {
            "text/plain": [
              "4"
            ]
          },
          "metadata": {},
          "execution_count": 24
        }
      ]
    },
    {
      "cell_type": "code",
      "source": [
        "prices = [7,1,5,3,6,4]\n",
        "min_price = 7\n",
        "for i in prices:\n",
        "  if i < min_price:\n",
        "    min_price = i\n",
        "idx = prices.index(min_price)\n",
        "max_profit = 0\n",
        "for id in range (len(prices)):\n",
        "  if id > idx:\n",
        "    profit = prices[id]-prices[idx]\n",
        "    print(profit)\n",
        "    if max_profit < profit:\n",
        "      max_profit = profit\n",
        "\n",
        "\n"
      ],
      "metadata": {
        "colab": {
          "base_uri": "https://localhost:8080/"
        },
        "id": "3u2NbIIKoWGn",
        "outputId": "e52f408a-73d5-4b2a-c67a-fc22dda019bd"
      },
      "execution_count": 59,
      "outputs": [
        {
          "output_type": "stream",
          "name": "stdout",
          "text": [
            "4\n",
            "2\n",
            "5\n",
            "3\n"
          ]
        }
      ]
    },
    {
      "cell_type": "markdown",
      "source": [
        "# New Section"
      ],
      "metadata": {
        "id": "0zTIxuTn-z-L"
      }
    },
    {
      "cell_type": "code",
      "source": [
        "max_profit"
      ],
      "metadata": {
        "colab": {
          "base_uri": "https://localhost:8080/"
        },
        "id": "mcVV7mzCsoi5",
        "outputId": "91f92c54-c92e-4abf-a389-997ed35cfc5f"
      },
      "execution_count": 58,
      "outputs": [
        {
          "output_type": "execute_result",
          "data": {
            "text/plain": [
              "5"
            ]
          },
          "metadata": {},
          "execution_count": 58
        }
      ]
    },
    {
      "cell_type": "markdown",
      "source": [
        "3-contains duplicates\n"
      ],
      "metadata": {
        "id": "K6NpLRVfbRGp"
      }
    },
    {
      "cell_type": "code",
      "source": [
        "def duplicates(nums):\n",
        "  hashset = set()\n",
        "  for n in nums:\n",
        "    if n in hashset:\n",
        "      return True\n",
        "    hashset.add(n)\n",
        "  return False"
      ],
      "metadata": {
        "collapsed": true,
        "id": "E7gamMzHcQuE"
      },
      "execution_count": null,
      "outputs": []
    },
    {
      "cell_type": "code",
      "source": [
        "duplicates ([1,2,1,3,4])"
      ],
      "metadata": {
        "colab": {
          "base_uri": "https://localhost:8080/"
        },
        "id": "VXo2yJjXq0F3",
        "outputId": "e69cf935-63cb-4f08-8438-56d473ec4ca1"
      },
      "execution_count": null,
      "outputs": [
        {
          "output_type": "execute_result",
          "data": {
            "text/plain": [
              "True"
            ]
          },
          "metadata": {},
          "execution_count": 58
        }
      ]
    },
    {
      "cell_type": "markdown",
      "source": [
        "length of substring\n",
        "Longest Substring Without Repeating Characters"
      ],
      "metadata": {
        "id": "Lkxq0UQ1VUtt"
      }
    },
    {
      "cell_type": "code",
      "source": [
        "def substring(s):\n",
        "  Charset = set()\n",
        "  l = 0\n",
        "  res = 0\n",
        "  for r in range(len(s)):\n",
        "    while s[r] in Charset:\n",
        "      print(r)\n",
        "      Charset.remove(s[l])\n",
        "      l += 1\n",
        "    Charset.add(s[r])\n",
        "    res = max(res, r - l + 1)\n",
        "  return res"
      ],
      "metadata": {
        "id": "y4sRV57usQhr"
      },
      "execution_count": null,
      "outputs": []
    },
    {
      "cell_type": "code",
      "source": [
        "substring('abbac')"
      ],
      "metadata": {
        "colab": {
          "base_uri": "https://localhost:8080/"
        },
        "id": "ipny_9LWWNLM",
        "outputId": "64482096-382f-40c7-b10b-0853c94830d6"
      },
      "execution_count": 30,
      "outputs": [
        {
          "output_type": "stream",
          "name": "stdout",
          "text": [
            "2\n",
            "2\n"
          ]
        },
        {
          "output_type": "execute_result",
          "data": {
            "text/plain": [
              "3"
            ]
          },
          "metadata": {},
          "execution_count": 30
        }
      ]
    },
    {
      "cell_type": "code",
      "source": [],
      "metadata": {
        "id": "dlBUjOUXzPNL"
      },
      "execution_count": null,
      "outputs": []
    },
    {
      "cell_type": "code",
      "source": [],
      "metadata": {
        "id": "pvC6nKE9mSHN"
      },
      "execution_count": null,
      "outputs": []
    }
  ]
}